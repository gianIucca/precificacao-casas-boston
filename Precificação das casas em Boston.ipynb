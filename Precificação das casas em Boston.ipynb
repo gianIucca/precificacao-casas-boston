{
 "cells": [
  {
   "cell_type": "markdown",
   "id": "4f4e9075",
   "metadata": {},
   "source": [
    "## Dataset disponibilizado pelo sklearn contendo as variáveis independentes e o valor das casas, que será nosso target\n",
    "\n",
    "### Como o banco de dados dos preços das casas de Boston disponibilizado pelo SKLearn foi descontinuado por causa de problemas éticos relacionados aos dados, iremos ignorar os avisos com a biblioteca warnings, porém fique avisado que no futuro não será mais possível carregar esse banco de dados via SKLearn."
   ]
  },
  {
   "cell_type": "code",
   "execution_count": 1,
   "id": "b3da97a6",
   "metadata": {},
   "outputs": [],
   "source": [
    "#Biblioteca necessária para ler os dados das casas de Boston\n",
    "from sklearn.datasets import load_boston\n",
    "\n",
    "#Para ignorar os erros citados no começo do caderno\n",
    "import warnings \n",
    "warnings.simplefilter(action='ignore')\n",
    "\n",
    "#Biblioteca para plotar os gráficos dos boxplots e verificar os outliers \n",
    "import matplotlib.pyplot as plt \n",
    "import matplotlib.gridspec as gridspec\n",
    "\n",
    "from sklearn.model_selection import train_test_split, GridSearchCV \n",
    "\n",
    "#Modelos utilizados\n",
    "from sklearn.linear_model import LinearRegression \n",
    "from sklearn.svm import SVR \n",
    "from sklearn.neural_network import MLPRegressor\n",
    "\n",
    "#Bibliotecas para normalizar os dados\n",
    "from sklearn.preprocessing import StandardScaler, MinMaxScaler\n",
    "\n",
    "from sklearn.metrics import mean_squared_error, mean_absolute_error, r2_score\n",
    "\n",
    "import pandas as pd \n",
    "import numpy as np\n",
    "\n",
    "from xgboost import XGBRegressor "
   ]
  },
  {
   "cell_type": "code",
   "execution_count": 2,
   "id": "3f347246",
   "metadata": {
    "scrolled": true
   },
   "outputs": [
    {
     "data": {
      "text/html": [
       "<div>\n",
       "<style scoped>\n",
       "    .dataframe tbody tr th:only-of-type {\n",
       "        vertical-align: middle;\n",
       "    }\n",
       "\n",
       "    .dataframe tbody tr th {\n",
       "        vertical-align: top;\n",
       "    }\n",
       "\n",
       "    .dataframe thead th {\n",
       "        text-align: right;\n",
       "    }\n",
       "</style>\n",
       "<table border=\"1\" class=\"dataframe\">\n",
       "  <thead>\n",
       "    <tr style=\"text-align: right;\">\n",
       "      <th></th>\n",
       "      <th>CRIM</th>\n",
       "      <th>ZN</th>\n",
       "      <th>INDUS</th>\n",
       "      <th>CHAS</th>\n",
       "      <th>NOX</th>\n",
       "      <th>RM</th>\n",
       "      <th>AGE</th>\n",
       "      <th>DIS</th>\n",
       "      <th>RAD</th>\n",
       "      <th>TAX</th>\n",
       "      <th>PTRATIO</th>\n",
       "      <th>B</th>\n",
       "      <th>LSTAT</th>\n",
       "    </tr>\n",
       "  </thead>\n",
       "  <tbody>\n",
       "    <tr>\n",
       "      <th>0</th>\n",
       "      <td>0.00632</td>\n",
       "      <td>18.0</td>\n",
       "      <td>2.31</td>\n",
       "      <td>0.0</td>\n",
       "      <td>0.538</td>\n",
       "      <td>6.575</td>\n",
       "      <td>65.2</td>\n",
       "      <td>4.0900</td>\n",
       "      <td>1.0</td>\n",
       "      <td>296.0</td>\n",
       "      <td>15.3</td>\n",
       "      <td>396.90</td>\n",
       "      <td>4.98</td>\n",
       "    </tr>\n",
       "    <tr>\n",
       "      <th>1</th>\n",
       "      <td>0.02731</td>\n",
       "      <td>0.0</td>\n",
       "      <td>7.07</td>\n",
       "      <td>0.0</td>\n",
       "      <td>0.469</td>\n",
       "      <td>6.421</td>\n",
       "      <td>78.9</td>\n",
       "      <td>4.9671</td>\n",
       "      <td>2.0</td>\n",
       "      <td>242.0</td>\n",
       "      <td>17.8</td>\n",
       "      <td>396.90</td>\n",
       "      <td>9.14</td>\n",
       "    </tr>\n",
       "    <tr>\n",
       "      <th>2</th>\n",
       "      <td>0.02729</td>\n",
       "      <td>0.0</td>\n",
       "      <td>7.07</td>\n",
       "      <td>0.0</td>\n",
       "      <td>0.469</td>\n",
       "      <td>7.185</td>\n",
       "      <td>61.1</td>\n",
       "      <td>4.9671</td>\n",
       "      <td>2.0</td>\n",
       "      <td>242.0</td>\n",
       "      <td>17.8</td>\n",
       "      <td>392.83</td>\n",
       "      <td>4.03</td>\n",
       "    </tr>\n",
       "    <tr>\n",
       "      <th>3</th>\n",
       "      <td>0.03237</td>\n",
       "      <td>0.0</td>\n",
       "      <td>2.18</td>\n",
       "      <td>0.0</td>\n",
       "      <td>0.458</td>\n",
       "      <td>6.998</td>\n",
       "      <td>45.8</td>\n",
       "      <td>6.0622</td>\n",
       "      <td>3.0</td>\n",
       "      <td>222.0</td>\n",
       "      <td>18.7</td>\n",
       "      <td>394.63</td>\n",
       "      <td>2.94</td>\n",
       "    </tr>\n",
       "    <tr>\n",
       "      <th>4</th>\n",
       "      <td>0.06905</td>\n",
       "      <td>0.0</td>\n",
       "      <td>2.18</td>\n",
       "      <td>0.0</td>\n",
       "      <td>0.458</td>\n",
       "      <td>7.147</td>\n",
       "      <td>54.2</td>\n",
       "      <td>6.0622</td>\n",
       "      <td>3.0</td>\n",
       "      <td>222.0</td>\n",
       "      <td>18.7</td>\n",
       "      <td>396.90</td>\n",
       "      <td>5.33</td>\n",
       "    </tr>\n",
       "    <tr>\n",
       "      <th>...</th>\n",
       "      <td>...</td>\n",
       "      <td>...</td>\n",
       "      <td>...</td>\n",
       "      <td>...</td>\n",
       "      <td>...</td>\n",
       "      <td>...</td>\n",
       "      <td>...</td>\n",
       "      <td>...</td>\n",
       "      <td>...</td>\n",
       "      <td>...</td>\n",
       "      <td>...</td>\n",
       "      <td>...</td>\n",
       "      <td>...</td>\n",
       "    </tr>\n",
       "    <tr>\n",
       "      <th>501</th>\n",
       "      <td>0.06263</td>\n",
       "      <td>0.0</td>\n",
       "      <td>11.93</td>\n",
       "      <td>0.0</td>\n",
       "      <td>0.573</td>\n",
       "      <td>6.593</td>\n",
       "      <td>69.1</td>\n",
       "      <td>2.4786</td>\n",
       "      <td>1.0</td>\n",
       "      <td>273.0</td>\n",
       "      <td>21.0</td>\n",
       "      <td>391.99</td>\n",
       "      <td>9.67</td>\n",
       "    </tr>\n",
       "    <tr>\n",
       "      <th>502</th>\n",
       "      <td>0.04527</td>\n",
       "      <td>0.0</td>\n",
       "      <td>11.93</td>\n",
       "      <td>0.0</td>\n",
       "      <td>0.573</td>\n",
       "      <td>6.120</td>\n",
       "      <td>76.7</td>\n",
       "      <td>2.2875</td>\n",
       "      <td>1.0</td>\n",
       "      <td>273.0</td>\n",
       "      <td>21.0</td>\n",
       "      <td>396.90</td>\n",
       "      <td>9.08</td>\n",
       "    </tr>\n",
       "    <tr>\n",
       "      <th>503</th>\n",
       "      <td>0.06076</td>\n",
       "      <td>0.0</td>\n",
       "      <td>11.93</td>\n",
       "      <td>0.0</td>\n",
       "      <td>0.573</td>\n",
       "      <td>6.976</td>\n",
       "      <td>91.0</td>\n",
       "      <td>2.1675</td>\n",
       "      <td>1.0</td>\n",
       "      <td>273.0</td>\n",
       "      <td>21.0</td>\n",
       "      <td>396.90</td>\n",
       "      <td>5.64</td>\n",
       "    </tr>\n",
       "    <tr>\n",
       "      <th>504</th>\n",
       "      <td>0.10959</td>\n",
       "      <td>0.0</td>\n",
       "      <td>11.93</td>\n",
       "      <td>0.0</td>\n",
       "      <td>0.573</td>\n",
       "      <td>6.794</td>\n",
       "      <td>89.3</td>\n",
       "      <td>2.3889</td>\n",
       "      <td>1.0</td>\n",
       "      <td>273.0</td>\n",
       "      <td>21.0</td>\n",
       "      <td>393.45</td>\n",
       "      <td>6.48</td>\n",
       "    </tr>\n",
       "    <tr>\n",
       "      <th>505</th>\n",
       "      <td>0.04741</td>\n",
       "      <td>0.0</td>\n",
       "      <td>11.93</td>\n",
       "      <td>0.0</td>\n",
       "      <td>0.573</td>\n",
       "      <td>6.030</td>\n",
       "      <td>80.8</td>\n",
       "      <td>2.5050</td>\n",
       "      <td>1.0</td>\n",
       "      <td>273.0</td>\n",
       "      <td>21.0</td>\n",
       "      <td>396.90</td>\n",
       "      <td>7.88</td>\n",
       "    </tr>\n",
       "  </tbody>\n",
       "</table>\n",
       "<p>506 rows × 13 columns</p>\n",
       "</div>"
      ],
      "text/plain": [
       "        CRIM    ZN  INDUS  CHAS    NOX     RM   AGE     DIS  RAD    TAX  \\\n",
       "0    0.00632  18.0   2.31   0.0  0.538  6.575  65.2  4.0900  1.0  296.0   \n",
       "1    0.02731   0.0   7.07   0.0  0.469  6.421  78.9  4.9671  2.0  242.0   \n",
       "2    0.02729   0.0   7.07   0.0  0.469  7.185  61.1  4.9671  2.0  242.0   \n",
       "3    0.03237   0.0   2.18   0.0  0.458  6.998  45.8  6.0622  3.0  222.0   \n",
       "4    0.06905   0.0   2.18   0.0  0.458  7.147  54.2  6.0622  3.0  222.0   \n",
       "..       ...   ...    ...   ...    ...    ...   ...     ...  ...    ...   \n",
       "501  0.06263   0.0  11.93   0.0  0.573  6.593  69.1  2.4786  1.0  273.0   \n",
       "502  0.04527   0.0  11.93   0.0  0.573  6.120  76.7  2.2875  1.0  273.0   \n",
       "503  0.06076   0.0  11.93   0.0  0.573  6.976  91.0  2.1675  1.0  273.0   \n",
       "504  0.10959   0.0  11.93   0.0  0.573  6.794  89.3  2.3889  1.0  273.0   \n",
       "505  0.04741   0.0  11.93   0.0  0.573  6.030  80.8  2.5050  1.0  273.0   \n",
       "\n",
       "     PTRATIO       B  LSTAT  \n",
       "0       15.3  396.90   4.98  \n",
       "1       17.8  396.90   9.14  \n",
       "2       17.8  392.83   4.03  \n",
       "3       18.7  394.63   2.94  \n",
       "4       18.7  396.90   5.33  \n",
       "..       ...     ...    ...  \n",
       "501     21.0  391.99   9.67  \n",
       "502     21.0  396.90   9.08  \n",
       "503     21.0  396.90   5.64  \n",
       "504     21.0  393.45   6.48  \n",
       "505     21.0  396.90   7.88  \n",
       "\n",
       "[506 rows x 13 columns]"
      ]
     },
     "metadata": {},
     "output_type": "display_data"
    }
   ],
   "source": [
    "#Lendo o arquivo e criando um dataframe com as colunas dos features names\n",
    "housing = load_boston()\n",
    "df = pd.DataFrame(housing.data, columns=housing.feature_names)\n",
    "display(df)"
   ]
  },
  {
   "cell_type": "code",
   "execution_count": 3,
   "id": "e0e47222",
   "metadata": {
    "scrolled": true
   },
   "outputs": [
    {
     "name": "stdout",
     "output_type": "stream",
     "text": [
      ".. _boston_dataset:\n",
      "\n",
      "Boston house prices dataset\n",
      "---------------------------\n",
      "\n",
      "**Data Set Characteristics:**  \n",
      "\n",
      "    :Number of Instances: 506 \n",
      "\n",
      "    :Number of Attributes: 13 numeric/categorical predictive. Median Value (attribute 14) is usually the target.\n",
      "\n",
      "    :Attribute Information (in order):\n",
      "        - CRIM     per capita crime rate by town\n",
      "        - ZN       proportion of residential land zoned for lots over 25,000 sq.ft.\n",
      "        - INDUS    proportion of non-retail business acres per town\n",
      "        - CHAS     Charles River dummy variable (= 1 if tract bounds river; 0 otherwise)\n",
      "        - NOX      nitric oxides concentration (parts per 10 million)\n",
      "        - RM       average number of rooms per dwelling\n",
      "        - AGE      proportion of owner-occupied units built prior to 1940\n",
      "        - DIS      weighted distances to five Boston employment centres\n",
      "        - RAD      index of accessibility to radial highways\n",
      "        - TAX      full-value property-tax rate per $10,000\n",
      "        - PTRATIO  pupil-teacher ratio by town\n",
      "        - B        1000(Bk - 0.63)^2 where Bk is the proportion of black people by town\n",
      "        - LSTAT    % lower status of the population\n",
      "        - MEDV     Median value of owner-occupied homes in $1000's\n",
      "\n",
      "    :Missing Attribute Values: None\n",
      "\n",
      "    :Creator: Harrison, D. and Rubinfeld, D.L.\n",
      "\n",
      "This is a copy of UCI ML housing dataset.\n",
      "https://archive.ics.uci.edu/ml/machine-learning-databases/housing/\n",
      "\n",
      "\n",
      "This dataset was taken from the StatLib library which is maintained at Carnegie Mellon University.\n",
      "\n",
      "The Boston house-price data of Harrison, D. and Rubinfeld, D.L. 'Hedonic\n",
      "prices and the demand for clean air', J. Environ. Economics & Management,\n",
      "vol.5, 81-102, 1978.   Used in Belsley, Kuh & Welsch, 'Regression diagnostics\n",
      "...', Wiley, 1980.   N.B. Various transformations are used in the table on\n",
      "pages 244-261 of the latter.\n",
      "\n",
      "The Boston house-price data has been used in many machine learning papers that address regression\n",
      "problems.   \n",
      "     \n",
      ".. topic:: References\n",
      "\n",
      "   - Belsley, Kuh & Welsch, 'Regression diagnostics: Identifying Influential Data and Sources of Collinearity', Wiley, 1980. 244-261.\n",
      "   - Quinlan,R. (1993). Combining Instance-Based and Model-Based Learning. In Proceedings on the Tenth International Conference of Machine Learning, 236-243, University of Massachusetts, Amherst. Morgan Kaufmann.\n",
      "\n"
     ]
    }
   ],
   "source": [
    "#Informação sobre as colunas do dataframe \n",
    "print(housing.DESCR)"
   ]
  },
  {
   "cell_type": "markdown",
   "id": "02e1a674",
   "metadata": {},
   "source": [
    "## Verificando os outliers"
   ]
  },
  {
   "cell_type": "code",
   "execution_count": 4,
   "id": "86d69eb1",
   "metadata": {
    "scrolled": true
   },
   "outputs": [
    {
     "data": {
      "image/png": "[encoded data removed]",
      "text/plain": [
       "<Figure size 1440x2160 with 13 Axes>"
      ]
     },
     "metadata": {
      "needs_background": "light"
     },
     "output_type": "display_data"
    }
   ],
   "source": [
    "def desenhar_boxplots(df, features):\n",
    "    n = len(features)\n",
    "    fig = plt.figure(constrained_layout=True, figsize=(20,30))\n",
    "    gs = gridspec.GridSpec(int(n/3) + 1, 3, figure=fig)\n",
    "    \n",
    "    for i in range(n):\n",
    "        k = int(i/3)\n",
    "        j = i % 3\n",
    "        col = features[i]\n",
    "        ax = fig.add_subplot(gs[k, j])\n",
    "        ax.set_title(col)\n",
    "        ax.boxplot(df[col])\n",
    "\n",
    "def substituir_outliers(df, var_names):\n",
    "    for var_name in var_names:\n",
    "        #Calculando o Q1 e o Q3 \n",
    "        Q1 = df.loc[:, var_name].quantile(0.25)\n",
    "        Q3 = df.loc[:, var_name].quantile(0.75)\n",
    "        #Calculando o IQR (Interquantile Range)\n",
    "        IQR = Q3 - Q1 \n",
    "        #Criando um filtro para encontrar outliers\n",
    "        filtro = (df.loc[:, var_name] > Q3 + 1.5 * IQR)\n",
    "        #Aplicando o filtro\n",
    "        df.loc[filtro, var_name] = Q3 + 1.5 * IQR\n",
    "        \n",
    "        filtro_baixo = (df.loc[:, var_name] < Q1 - 1.5 * IQR)\n",
    "        df.loc[filtro_baixo, var_name] = Q1 - 1.5 * IQR\n",
    "        \n",
    "        \n",
    "        \n",
    "desenhar_boxplots(df, df.columns)\n",
    "#Testando o modelo com e sem a substituição dos outliers\n",
    "#substituir_outliers(df, df.columns)\n"
   ]
  },
  {
   "cell_type": "markdown",
   "id": "bbf398b0",
   "metadata": {},
   "source": [
    "## Separando entre treino e teste"
   ]
  },
  {
   "cell_type": "code",
   "execution_count": 5,
   "id": "d02a08f2",
   "metadata": {},
   "outputs": [],
   "source": [
    "#Caracteristicas das casas que serão as features do modelo \n",
    "X = housing.data \n",
    "#Preço conhecido das casas, nosso target \n",
    "y = housing.target \n",
    "\n",
    "#Separar entre treino e teste \n",
    "X_train, X_test, y_train, y_test = train_test_split(X, y, test_size=0.2, random_state=42)"
   ]
  },
  {
   "cell_type": "markdown",
   "id": "49d5a15d",
   "metadata": {},
   "source": [
    "## Normalizando os dados"
   ]
  },
  {
   "cell_type": "code",
   "execution_count": 6,
   "id": "f347f213",
   "metadata": {},
   "outputs": [],
   "source": [
    "standardscaler = StandardScaler()\n",
    "standardscaler.fit(X_train)\n",
    "X_train = standardscaler.transform(X_train)\n",
    "X_test = standardscaler.transform(X_test)"
   ]
  },
  {
   "cell_type": "markdown",
   "id": "11b8661f",
   "metadata": {},
   "source": [
    "## Técnica 1: Regressão Linear"
   ]
  },
  {
   "cell_type": "code",
   "execution_count": 7,
   "id": "c1ec26cf",
   "metadata": {},
   "outputs": [
    {
     "name": "stdout",
     "output_type": "stream",
     "text": [
      "MSE Linear: 24.291119474973527\n",
      "RMSE Linear: 4.928602182665338\n",
      "MAE Linear: 3.1890919658878465\n",
      "R-Squared Linear: 0.6687594935356318\n"
     ]
    }
   ],
   "source": [
    "regressaoLinear = LinearRegression().fit(X_train,y_train)\n",
    "yLinear = regressaoLinear.predict(X_test)\n",
    "\n",
    "print(f'MSE Linear: {mean_squared_error(y_test, yLinear)}')\n",
    "print(f'RMSE Linear: {np.sqrt(mean_squared_error(y_test, yLinear))}')\n",
    "print(f'MAE Linear: {mean_absolute_error(y_test, yLinear)}')\n",
    "print(f'R-Squared Linear: {r2_score(y_test, yLinear)}')"
   ]
  },
  {
   "cell_type": "markdown",
   "id": "1e35fa5b",
   "metadata": {},
   "source": [
    "## Técnica 2: SVR"
   ]
  },
  {
   "cell_type": "code",
   "execution_count": 8,
   "id": "8ec2f5f4",
   "metadata": {},
   "outputs": [
    {
     "name": "stdout",
     "output_type": "stream",
     "text": [
      "MSE SVR: 25.66853967839608\n",
      "RMSE SVR: 5.066412900504269\n",
      "MAE SVR: 2.731716176155842\n",
      "R-Squared SVR: 0.649976605976003\n"
     ]
    }
   ],
   "source": [
    "regressaoSVR = SVR().fit(X_train, y_train)\n",
    "ySVR = regressaoSVR.predict(X_test)\n",
    "\n",
    "print(f'MSE SVR: {mean_squared_error(y_test, ySVR)}')\n",
    "print(f'RMSE SVR: {np.sqrt(mean_squared_error(y_test, ySVR))}')\n",
    "print(f'MAE SVR: {mean_absolute_error(y_test, ySVR)}')\n",
    "print(f'R-Squared SVR: {r2_score(y_test, ySVR)}')"
   ]
  },
  {
   "cell_type": "markdown",
   "id": "500899e4",
   "metadata": {},
   "source": [
    "## Técnica 3: XGBoost Regressor"
   ]
  },
  {
   "cell_type": "code",
   "execution_count": 9,
   "id": "00b64910",
   "metadata": {},
   "outputs": [
    {
     "name": "stdout",
     "output_type": "stream",
     "text": [
      "MSE XGB: 6.735976212796364\n",
      "RMSE XGB: 2.5953759289930165\n",
      "MAE XGB: 1.9662464057697968\n",
      "R-Squared XGB: 0.9081463423471537\n"
     ]
    }
   ],
   "source": [
    "regressaoXGB = XGBRegressor().fit(X_train, y_train)\n",
    "yXGB = regressaoXGB.predict(X_test)\n",
    "\n",
    "print(f'MSE XGB: {mean_squared_error(y_test, yXGB)}')\n",
    "print(f'RMSE XGB: {np.sqrt(mean_squared_error(y_test, yXGB))}')\n",
    "print(f'MAE XGB: {mean_absolute_error(y_test, yXGB)}')\n",
    "print(f'R-Squared XGB: {r2_score(y_test, yXGB)}')"
   ]
  },
  {
   "cell_type": "code",
   "execution_count": 10,
   "id": "54f8167f",
   "metadata": {
    "scrolled": true
   },
   "outputs": [
    {
     "name": "stdout",
     "output_type": "stream",
     "text": [
      "MSE XGB com GridSearch: 7.530607328787482\n",
      "RMSE XGB com GridSearch: 2.7441952060280776\n",
      "MAE XGB com GridSearch: 1.9902762693517346\n",
      "R-Squared XGB com GridSearch: 0.8973105299596503\n"
     ]
    }
   ],
   "source": [
    "parameters = {\n",
    "    'max_depth': [1,2,3,4,5,6,7,8,9,10],\n",
    "    'eta': [0.1,0.2,0.3],\n",
    "    \"objective\": ['reg:squarederror'],\n",
    "    \"booster\": ['gbtree'],\n",
    "    \"n_jobs\": [5],\n",
    "    \"gamma\": [0, 1],\n",
    "    \"min_child_weight\": [1,3],\n",
    "    \"max_delta_step\": [0,1],\n",
    "    \"subsample\": [0.5, 1]\n",
    "}\n",
    "\n",
    "XGBGrid = GridSearchCV(XGBRegressor(), parameters)\n",
    "\n",
    "XGBGridModel = XGBGrid.fit(X_train, y_train)\n",
    "yGrid = XGBGridModel.predict(X_test)\n",
    "\n",
    "print(f'MSE XGB com GridSearch: {mean_squared_error(y_test, yGrid)}')\n",
    "print(f'RMSE XGB com GridSearch: {np.sqrt(mean_squared_error(y_test, yGrid))}')\n",
    "print(f'MAE XGB com GridSearch: {mean_absolute_error(y_test, yGrid)}')\n",
    "print(f'R-Squared XGB com GridSearch: {r2_score(y_test, yGrid)}')"
   ]
  },
  {
   "cell_type": "markdown",
   "id": "abad0f6b",
   "metadata": {},
   "source": [
    "## Técnica 4: MLP Scikit Learn "
   ]
  },
  {
   "cell_type": "code",
   "execution_count": 11,
   "id": "b24d1078",
   "metadata": {},
   "outputs": [
    {
     "name": "stdout",
     "output_type": "stream",
     "text": [
      "MSE MLP: 27.243387201729842\n",
      "RMSE MLP: 2.2846268458599344\n",
      "MAE MLP: 3.5408186181477848\n",
      "R-Squared MLP: 0.6285015442041206\n"
     ]
    }
   ],
   "source": [
    "MLP = MLPRegressor().fit(X_train, y_train)\n",
    "yMLP = MLP.predict(X_test)\n",
    "MSEMLP = mean_squared_error(y_test, yMLP)\n",
    "MAEMLP = mean_absolute_error(y_test, yMLP)\n",
    "\n",
    "print(f'MSE MLP: {mean_squared_error(y_test, yMLP)}')\n",
    "print(f'RMSE MLP: {np.sqrt(np.sqrt(mean_squared_error(y_test, yMLP)))}')\n",
    "print(f'MAE MLP: {mean_absolute_error(y_test, yMLP)}')\n",
    "print(f'R-Squared MLP: {r2_score(y_test, yMLP)}')"
   ]
  }
 ],
 "metadata": {
  "kernelspec": {
   "display_name": "Python 3",
   "language": "python",
   "name": "python3"
  },
  "language_info": {
   "codemirror_mode": {
    "name": "ipython",
    "version": 3
   },
   "file_extension": ".py",
   "mimetype": "text/x-python",
   "name": "python",
   "nbconvert_exporter": "python",
   "pygments_lexer": "ipython3",
   "version": "3.8.8"
  }
 },
 "nbformat": 4,
 "nbformat_minor": 5
}
