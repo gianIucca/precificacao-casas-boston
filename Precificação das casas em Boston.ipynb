{
 "cells": [
  {
   "cell_type": "markdown",
   "id": "4f4e9075",
   "metadata": {},
   "source": [
    "## Dataset disponibilizado pelo sklearn, e importado com a sua função built-in from sklearn import datasets"
   ]
  }
 ],
 "metadata": {
  "kernelspec": {
   "display_name": "Python 3",
   "language": "python",
   "name": "python3"
  },
  "language_info": {
   "codemirror_mode": {
    "name": "ipython",
    "version": 3
   },
   "file_extension": ".py",
   "mimetype": "text/x-python",
   "name": "python",
   "nbconvert_exporter": "python",
   "pygments_lexer": "ipython3",
   "version": "3.8.8"
  }
 },
 "nbformat": 4,
 "nbformat_minor": 5
}
